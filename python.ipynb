{
  "nbformat": 4,
  "nbformat_minor": 0,
  "metadata": {
    "colab": {
      "provenance": []
    },
    "kernelspec": {
      "name": "python3",
      "display_name": "Python 3"
    },
    "language_info": {
      "name": "python"
    }
  },
  "cells": [
    {
      "cell_type": "code",
      "execution_count": null,
      "metadata": {
        "colab": {
          "base_uri": "https://localhost:8080/"
        },
        "id": "s18wWdDa0KHU",
        "outputId": "8a483db4-17d9-4d63-d7f3-62a7d4889839"
      },
      "outputs": [
        {
          "output_type": "stream",
          "name": "stdout",
          "text": [
            "Hello World\n"
          ]
        }
      ],
      "source": [
        "\n",
        "print(\"Hello World\")"
      ]
    },
    {
      "cell_type": "code",
      "source": [
        "if 10>9:\n",
        "  print(\"Ten is greater than nine\")"
      ],
      "metadata": {
        "colab": {
          "base_uri": "https://localhost:8080/"
        },
        "id": "kY8ceg672HCy",
        "outputId": "2877e825-bbe3-4a06-f847-3ca022507cbc"
      },
      "execution_count": null,
      "outputs": [
        {
          "output_type": "stream",
          "name": "stdout",
          "text": [
            "Ten is greater than nine\n"
          ]
        }
      ]
    },
    {
      "cell_type": "code",
      "source": [
        "x=5\n",
        "y=3.5\n",
        "z='Naim'\n",
        "\n",
        "print(type(x))\n",
        "print(type(y))\n",
        "print(type(z))\n"
      ],
      "metadata": {
        "colab": {
          "base_uri": "https://localhost:8080/"
        },
        "id": "Fe9_YK462ecC",
        "outputId": "33fa177e-baab-41dd-cdaf-6fda69202054"
      },
      "execution_count": null,
      "outputs": [
        {
          "output_type": "stream",
          "name": "stdout",
          "text": [
            "<class 'int'>\n",
            "<class 'float'>\n",
            "<class 'str'>\n"
          ]
        }
      ]
    },
    {
      "cell_type": "code",
      "source": [
        "x,y,z= 'Black','Blue','Red'\n",
        "print(x)\n",
        "print(y)\n",
        "print(z)\n"
      ],
      "metadata": {
        "colab": {
          "base_uri": "https://localhost:8080/"
        },
        "id": "dXXvAywo53Un",
        "outputId": "8b09baac-1ccf-4203-9449-6d913c236148"
      },
      "execution_count": null,
      "outputs": [
        {
          "output_type": "stream",
          "name": "stdout",
          "text": [
            "Black\n",
            "Blue\n",
            "Red\n"
          ]
        }
      ]
    },
    {
      "cell_type": "code",
      "source": [
        "x=y=z='Red'\n",
        "print(z)"
      ],
      "metadata": {
        "colab": {
          "base_uri": "https://localhost:8080/"
        },
        "id": "9zIpjkpD6MqY",
        "outputId": "f7050d5e-a329-4753-b606-913a7e5817e7"
      },
      "execution_count": null,
      "outputs": [
        {
          "output_type": "stream",
          "name": "stdout",
          "text": [
            "Red\n"
          ]
        }
      ]
    },
    {
      "cell_type": "code",
      "source": [
        "animal=['Cow','Bird']\n",
        "x,y = animal\n",
        "print(x)\n",
        "print(y)\n"
      ],
      "metadata": {
        "colab": {
          "base_uri": "https://localhost:8080/"
        },
        "id": "uc6I-u4J6lw3",
        "outputId": "8091f9e8-26b8-4351-d018-dfd2f5ba32ad"
      },
      "execution_count": null,
      "outputs": [
        {
          "output_type": "stream",
          "name": "stdout",
          "text": [
            "Cow\n",
            "Bird\n"
          ]
        }
      ]
    },
    {
      "cell_type": "code",
      "source": [
        "x='Allah'\n",
        "y='made'\n",
        "z='us.'\n",
        "print(x+y+z)"
      ],
      "metadata": {
        "colab": {
          "base_uri": "https://localhost:8080/"
        },
        "id": "PN5O6OfP7G1n",
        "outputId": "50ae1e06-f1d5-467a-974e-2ef7460996b1"
      },
      "execution_count": null,
      "outputs": [
        {
          "output_type": "stream",
          "name": "stdout",
          "text": [
            "Allahmadeus.\n"
          ]
        }
      ]
    },
    {
      "cell_type": "code",
      "source": [
        "x='Allah'\n",
        "y='made'\n",
        "z='us.'\n",
        "print(x,y,z)"
      ],
      "metadata": {
        "colab": {
          "base_uri": "https://localhost:8080/"
        },
        "id": "zsqoVXxj8jDe",
        "outputId": "f820db3a-7ea3-4461-f58e-3b33b403b96e"
      },
      "execution_count": null,
      "outputs": [
        {
          "output_type": "stream",
          "name": "stdout",
          "text": [
            "Allah made us.\n"
          ]
        }
      ]
    },
    {
      "cell_type": "code",
      "source": [
        "x='Allah'\n",
        "print('I love '+x)"
      ],
      "metadata": {
        "colab": {
          "base_uri": "https://localhost:8080/"
        },
        "id": "c4tlukIC9K2L",
        "outputId": "dcdfe209-b340-43c8-9509-5dcec9a11979"
      },
      "execution_count": null,
      "outputs": [
        {
          "output_type": "stream",
          "name": "stdout",
          "text": [
            "I love Allah\n"
          ]
        }
      ]
    },
    {
      "cell_type": "code",
      "source": [
        "#Integer datatype\n",
        "x=20\n",
        "print(type(x))\n",
        "\n",
        "#Float datatype\n",
        "y=5.5\n",
        "print(type(y))\n",
        "\n",
        "#String datatype\n",
        "z=\"Hello World\"\n",
        "print(type(z))\n",
        "\n",
        "#Complex datatype\n",
        "a = 1j\n",
        "print(a)\n",
        "print(type(a))\n",
        "\n",
        "#List datatype\n",
        "b=['apple','lime','watermelon']\n",
        "print(b)\n",
        "print(type(b))\n",
        "\n",
        "#Tuple datatype\n",
        "c=('apple','lime','watermelon')\n",
        "print(c)\n",
        "print(type(c))\n",
        "\n",
        "#Range datatype\n",
        "d=range(5)\n",
        "print(d)\n",
        "print(type(d))\n",
        "\n",
        "#Boolean datatype\n",
        "f=True\n",
        "print(f)\n",
        "print(type(f))"
      ],
      "metadata": {
        "colab": {
          "base_uri": "https://localhost:8080/"
        },
        "id": "WOgWsxweYuk-",
        "outputId": "44b56f16-beb1-43a6-d227-a811e8f8d05a"
      },
      "execution_count": null,
      "outputs": [
        {
          "output_type": "stream",
          "name": "stdout",
          "text": [
            "<class 'int'>\n",
            "<class 'float'>\n",
            "<class 'str'>\n",
            "1j\n",
            "<class 'complex'>\n",
            "['apple', 'lime', 'watermelon']\n",
            "<class 'list'>\n",
            "('apple', 'lime', 'watermelon')\n",
            "<class 'tuple'>\n",
            "range(0, 5)\n",
            "<class 'range'>\n",
            "True\n",
            "<class 'bool'>\n"
          ]
        }
      ]
    },
    {
      "cell_type": "code",
      "source": [
        "import random\n",
        "print(random.randrange(10))"
      ],
      "metadata": {
        "colab": {
          "base_uri": "https://localhost:8080/"
        },
        "id": "mMXDfLxBfeeO",
        "outputId": "98b353a6-c7e9-4d80-a45f-f7a0cbd3d35f"
      },
      "execution_count": null,
      "outputs": [
        {
          "output_type": "stream",
          "name": "stdout",
          "text": [
            "9\n"
          ]
        }
      ]
    },
    {
      "cell_type": "code",
      "source": [
        "a=\"\"\"A is an alphabet.\"\"\"\n",
        "print(a)\n",
        "print(a[2]) #String array"
      ],
      "metadata": {
        "colab": {
          "base_uri": "https://localhost:8080/"
        },
        "id": "3KqrlEtshA4Z",
        "outputId": "f7b91012-2a33-4d30-879a-a8367960336f"
      },
      "execution_count": null,
      "outputs": [
        {
          "output_type": "stream",
          "name": "stdout",
          "text": [
            "A is an alphabet.\n",
            "i\n"
          ]
        }
      ]
    },
    {
      "cell_type": "code",
      "source": [
        "for x in \"BIRD\":  #Loop\n",
        " print(x)"
      ],
      "metadata": {
        "colab": {
          "base_uri": "https://localhost:8080/"
        },
        "id": "EWiGC1WWhbNL",
        "outputId": "76720aac-2abc-42cb-bf44-0285bb6a6f98"
      },
      "execution_count": null,
      "outputs": [
        {
          "output_type": "stream",
          "name": "stdout",
          "text": [
            "B\n",
            "I\n",
            "R\n",
            "D\n"
          ]
        }
      ]
    },
    {
      "cell_type": "code",
      "source": [
        "x=\"Check String\" #Length of string\n",
        "print(len(x))"
      ],
      "metadata": {
        "colab": {
          "base_uri": "https://localhost:8080/"
        },
        "id": "GlQcFYWDijwz",
        "outputId": "1f35bb71-5ded-437e-91bd-ffbb3e0cf5a7"
      },
      "execution_count": null,
      "outputs": [
        {
          "output_type": "stream",
          "name": "stdout",
          "text": [
            "12\n"
          ]
        }
      ]
    },
    {
      "cell_type": "code",
      "source": [
        "txt=\"Life is beautyful when you have your mother.\" #Check string using keyword in\n",
        "print(\"father\" in txt)"
      ],
      "metadata": {
        "colab": {
          "base_uri": "https://localhost:8080/"
        },
        "id": "QgBRSS6djTod",
        "outputId": "c5c7e0d3-1588-4d5b-929e-e9bff58413ad"
      },
      "execution_count": null,
      "outputs": [
        {
          "output_type": "stream",
          "name": "stdout",
          "text": [
            "False\n"
          ]
        }
      ]
    },
    {
      "cell_type": "code",
      "source": [
        "txt=\"Life is beautiful when you have your mother.\" #Check string using if statement\n",
        "if \"mother\" in txt:\n",
        "  print(\"Yes, 'mother' is present.\")"
      ],
      "metadata": {
        "colab": {
          "base_uri": "https://localhost:8080/"
        },
        "id": "0-0zGauolJwq",
        "outputId": "e76bb762-4745-4df2-ebec-421694afd670"
      },
      "execution_count": null,
      "outputs": [
        {
          "output_type": "stream",
          "name": "stdout",
          "text": [
            "Yes, 'mother' is present.\n"
          ]
        }
      ]
    },
    {
      "cell_type": "code",
      "source": [
        "txt = \"The best things in life are free!\"\n",
        "if \"expensive\" not in txt:\n",
        " print(\"No, 'expensive' is NOT present.\")"
      ],
      "metadata": {
        "colab": {
          "base_uri": "https://localhost:8080/"
        },
        "id": "0GPGFRsRmzdz",
        "outputId": "c28894c4-510f-4c9a-b091-7c324c8e013a"
      },
      "execution_count": null,
      "outputs": [
        {
          "output_type": "stream",
          "name": "stdout",
          "text": [
            "No, 'expensive' is NOT present.\n"
          ]
        }
      ]
    },
    {
      "cell_type": "code",
      "source": [
        "b=\"Hey world\" #Slicing string syntax\n",
        "print(b[2:5])\n",
        "print(b[:5])\n",
        "print(b[2:])\n",
        "print(b[-5:-2])"
      ],
      "metadata": {
        "colab": {
          "base_uri": "https://localhost:8080/"
        },
        "id": "giNGvuVHnR6z",
        "outputId": "c4981a3e-e5a2-48a0-87a2-1dca7cdf72f9"
      },
      "execution_count": null,
      "outputs": [
        {
          "output_type": "stream",
          "name": "stdout",
          "text": [
            "y w\n",
            "Hey w\n",
            "y world\n",
            "wor\n"
          ]
        }
      ]
    },
    {
      "cell_type": "code",
      "source": [
        "b=\"Hey world\" #Uper & Lower Case\n",
        "print(b.upper())\n",
        "print(b.lower())\n",
        "print(b.replace('H','J')) #Replace syntax"
      ],
      "metadata": {
        "colab": {
          "base_uri": "https://localhost:8080/"
        },
        "id": "xx0r_jD8qs27",
        "outputId": "3bf6e67b-8e2b-47c9-e67a-2d9bcce06ae6"
      },
      "execution_count": null,
      "outputs": [
        {
          "output_type": "stream",
          "name": "stdout",
          "text": [
            "HEY WORLD\n",
            "hey world\n",
            "Jey world\n"
          ]
        }
      ]
    },
    {
      "cell_type": "code",
      "source": [
        "p= \"Hey\"\n",
        "q=\"world\"\n",
        "r=p+q\n",
        "s=p+\" \"+q\n",
        "print(r)\n",
        "print(s)"
      ],
      "metadata": {
        "colab": {
          "base_uri": "https://localhost:8080/"
        },
        "id": "7OYF-EMhwRC1",
        "outputId": "5d46fb8e-4f75-4f76-9c1d-756736104ab1"
      },
      "execution_count": null,
      "outputs": [
        {
          "output_type": "stream",
          "name": "stdout",
          "text": [
            "Heyworld\n",
            "Hey world\n"
          ]
        }
      ]
    },
    {
      "cell_type": "code",
      "source": [
        "contxt='It\\'s alright.'\n",
        "print(contxt)"
      ],
      "metadata": {
        "colab": {
          "base_uri": "https://localhost:8080/"
        },
        "id": "Lk0grrVIczXI",
        "outputId": "2854b20c-05aa-448b-c2bc-7edf1307142a"
      },
      "execution_count": null,
      "outputs": [
        {
          "output_type": "stream",
          "name": "stdout",
          "text": [
            "It's alright.\n"
          ]
        }
      ]
    },
    {
      "cell_type": "code",
      "source": [
        "print(9>7)\n",
        "print(6==5)"
      ],
      "metadata": {
        "colab": {
          "base_uri": "https://localhost:8080/"
        },
        "id": "lmhcErEkdmSe",
        "outputId": "64e28b56-1bd4-4667-8985-467e0749c4c5"
      },
      "execution_count": null,
      "outputs": [
        {
          "output_type": "stream",
          "name": "stdout",
          "text": [
            "True\n",
            "False\n"
          ]
        }
      ]
    },
    {
      "cell_type": "code",
      "source": [
        "xx=12\n",
        "print(xx>10 and xx<20)\n",
        "print(xx>14 or xx<20)\n",
        "print(not(xx>6 and xx<10))"
      ],
      "metadata": {
        "colab": {
          "base_uri": "https://localhost:8080/"
        },
        "id": "XI8IkyGfgaZY",
        "outputId": "ba613373-ad44-460c-8762-0a1f4ceb651e"
      },
      "execution_count": null,
      "outputs": [
        {
          "output_type": "stream",
          "name": "stdout",
          "text": [
            "True\n",
            "True\n",
            "True\n"
          ]
        }
      ]
    },
    {
      "cell_type": "code",
      "source": [
        "age=24\n",
        "money=30000\n",
        "txt=f\"My name is Naim, I am {age}\"\n",
        "txt1=f\"My account has {money}\"\n",
        "txt2=f\"My account has {money:.3f}\"\n",
        "txt3=f\"My phone price is {50*50}\"\n",
        "print(txt)\n",
        "print(txt1)\n",
        "print(txt2)\n",
        "print(txt3)"
      ],
      "metadata": {
        "colab": {
          "base_uri": "https://localhost:8080/"
        },
        "id": "S8GG3dQfxOYj",
        "outputId": "e762ce91-cc19-4a89-df26-6e16ff35aaba"
      },
      "execution_count": null,
      "outputs": [
        {
          "output_type": "stream",
          "name": "stdout",
          "text": [
            "My name is Naim, I am 24\n",
            "My account has 30000\n",
            "My account has 30000.000\n",
            "My phone price is 2500\n"
          ]
        }
      ]
    },
    {
      "cell_type": "code",
      "source": [
        "li=['AAA','ajnsjidA',True, 1834]\n",
        "print(li)"
      ],
      "metadata": {
        "colab": {
          "base_uri": "https://localhost:8080/"
        },
        "id": "VHdj6GNb1NdJ",
        "outputId": "2e4f1e38-e245-4966-a72f-06c9c6ae4fd5"
      },
      "execution_count": null,
      "outputs": [
        {
          "output_type": "stream",
          "name": "stdout",
          "text": [
            "['AAA', 'ajnsjidA', True, 1834]\n"
          ]
        }
      ]
    },
    {
      "cell_type": "code",
      "source": [
        "ll=[\"i am\",\"tou are\",\"they are\"]\n",
        "ll[1]=\"we are\"\n",
        "print(ll)\n",
        "LL=[\"i am\",\"tou are\",\"they are\",\"we are\"]\n",
        "LL[1:2]=[\"we\",\"are\"]\n",
        "print(LL)\n",
        "Ll=[\"i am\",\"tou are\",\"they are\"]\n",
        "Ll.insert(1,\"you are\")\n",
        "print(Ll)\n"
      ],
      "metadata": {
        "colab": {
          "base_uri": "https://localhost:8080/"
        },
        "id": "xXuGzXXh4s4h",
        "outputId": "2481ffdd-bda7-4441-8626-1bcc1b2d7082"
      },
      "execution_count": null,
      "outputs": [
        {
          "output_type": "stream",
          "name": "stdout",
          "text": [
            "['i am', 'we are', 'they are']\n",
            "['i am', 'we', 'are', 'they are', 'we are']\n",
            "['i am', 'you are', 'tou are', 'they are']\n"
          ]
        }
      ]
    },
    {
      "cell_type": "code",
      "source": [
        "list1=[\"a\",\"b\",\"c\",\"d\"] #Insert last item using append keyword\n",
        "list1.append(\"e\")\n",
        "print(list1)\n",
        "list2=[\"a\",\"b\",\"c\",\"d\"] #Insert one single item declear the position\n",
        "list2.insert(2,\"e\")\n",
        "print(list2)\n",
        "list2=[\"a\",\"b\",\"c\",\"d\"] #Insert extra item in the list using tropical keyword\n",
        "tropical=[\"e\",\"f\",\"g\"]\n",
        "list2.extend(tropical)\n",
        "print(list2)\n",
        "list2=[\"a\",\"b\",\"c\",\"d\"] #Remove a single item from the list\n",
        "list2.remove(\"a\")\n",
        "print(list2)\n",
        "list2=[\"a\",\"b\",\"c\",\"d\",\"a\"] #Remove the single item which was used double time\n",
        "list2.remove(\"a\")\n",
        "print(list2)\n",
        "list2=[\"a\",\"b\",\"c\",\"d\"] #Remove the third item\n",
        "list2.pop(2)\n",
        "print(list2)\n",
        "list2=[\"a\",\"b\",\"c\",\"d\",\"a\"] #Remove the last item\n",
        "list2.pop()\n",
        "print(list2)\n",
        "list2=[\"a\",\"b\",\"c\",\"d\",\"a\"] #Remove index item using del keyword\n",
        "del list2[2]\n",
        "print(list2)\n",
        "list2=[\"a\",\"b\",\"c\",\"d\",\"a\"] #Remove total index using del keyword\n",
        "del list2\n",
        "list2=[\"a\",\"b\",\"c\",\"d\",\"a\"] #Remove index item using clear keyword\n",
        "list2.clear()\n",
        "print(list2)"
      ],
      "metadata": {
        "colab": {
          "base_uri": "https://localhost:8080/"
        },
        "id": "chXzEhPE6wen",
        "outputId": "e79940c3-1cb4-452b-d4e7-539fedd1c908"
      },
      "execution_count": null,
      "outputs": [
        {
          "output_type": "stream",
          "name": "stdout",
          "text": [
            "['a', 'b', 'c', 'd', 'e']\n",
            "['a', 'b', 'e', 'c', 'd']\n",
            "['a', 'b', 'c', 'd', 'e', 'f', 'g']\n",
            "['b', 'c', 'd']\n",
            "['b', 'c', 'd', 'a']\n",
            "['a', 'b', 'd']\n",
            "['a', 'b', 'c', 'd']\n",
            "['a', 'b', 'd', 'a']\n",
            "[]\n"
          ]
        }
      ]
    },
    {
      "cell_type": "code",
      "source": [
        "li=[\"apple\",\"banana\",\"blue berry\"] #Print all item in the list one by one\n",
        "for x in li:\n",
        "  print(x)\n",
        "\n",
        "li=[\"apple\",\"banana\",\"blue berry\"]\n",
        "newlist=[]\n",
        "for x in li:\n",
        "  if \"a\" in x:\n",
        "    newlist.append(x)\n",
        "  print(newlist)\n",
        "\n",
        "list=[15,36,37,28,20,47]\n",
        "list1=[15,36,37,28,20,47]\n",
        "list.sort()\n",
        "list1.sort(reverse=True)\n",
        "print(list)\n",
        "print(list1)"
      ],
      "metadata": {
        "colab": {
          "base_uri": "https://localhost:8080/"
        },
        "id": "nK1L4wM9AvGS",
        "outputId": "3c4b8b5f-ddc9-4409-e1f6-7153f8b68941"
      },
      "execution_count": null,
      "outputs": [
        {
          "output_type": "stream",
          "name": "stdout",
          "text": [
            "apple\n",
            "banana\n",
            "blue berry\n",
            "['apple']\n",
            "['apple', 'banana']\n",
            "['apple', 'banana']\n",
            "[15, 20, 28, 36, 37, 47]\n",
            "[47, 37, 36, 28, 20, 15]\n"
          ]
        }
      ]
    },
    {
      "cell_type": "code",
      "source": [
        "thisdict = {\n",
        "  \"brand\": \"Ford\",\n",
        "  \"model\": \"Mustang\",\n",
        "  \"year\": 1964,\n",
        "\n",
        "}\n",
        "print(thisdict[\"brand\"])\n",
        "\n",
        "thisdict = {\n",
        "  \"brand\": \"Ford\",\n",
        "  \"model\": \"Mustang\",\n",
        "  \"year\": 1964,\n",
        "\n",
        "}\n",
        "print(thisdict)"
      ],
      "metadata": {
        "id": "3CT1Ir45w7As",
        "colab": {
          "base_uri": "https://localhost:8080/"
        },
        "outputId": "31dcfceb-e785-4eab-c3b0-ac48597fb59e"
      },
      "execution_count": null,
      "outputs": [
        {
          "output_type": "stream",
          "name": "stdout",
          "text": [
            "Ford\n",
            "{'brand': 'Ford', 'model': 'Mustang', 'year': 1964}\n"
          ]
        }
      ]
    },
    {
      "cell_type": "code",
      "source": [
        "i=1\n",
        "while i<=10:\n",
        "  print(i)\n",
        "  i += 1"
      ],
      "metadata": {
        "colab": {
          "base_uri": "https://localhost:8080/"
        },
        "id": "JOJDPbUI0cMq",
        "outputId": "06e4f9b2-70ed-4def-e41c-f3e7506ca183"
      },
      "execution_count": null,
      "outputs": [
        {
          "output_type": "stream",
          "name": "stdout",
          "text": [
            "1\n",
            "2\n",
            "3\n",
            "4\n",
            "5\n",
            "6\n",
            "7\n",
            "8\n",
            "9\n",
            "10\n"
          ]
        }
      ]
    },
    {
      "cell_type": "code",
      "source": [
        "i=1\n",
        "while i < 10:\n",
        "  print(i)\n",
        "  if i == 5:\n",
        "    break\n",
        "  i += 1"
      ],
      "metadata": {
        "colab": {
          "base_uri": "https://localhost:8080/"
        },
        "id": "97uSvjTg1h3C",
        "outputId": "21b04126-4d17-403d-a083-2a9e3cc883d5"
      },
      "execution_count": null,
      "outputs": [
        {
          "output_type": "stream",
          "name": "stdout",
          "text": [
            "1\n",
            "2\n",
            "3\n",
            "4\n",
            "5\n"
          ]
        }
      ]
    },
    {
      "cell_type": "code",
      "source": [
        "i=0\n",
        "while i < 10:\n",
        "  i += 1\n",
        "  if i == 5:\n",
        "    continue\n",
        "  print(i)"
      ],
      "metadata": {
        "colab": {
          "base_uri": "https://localhost:8080/"
        },
        "id": "QgJIOuHF2Qh3",
        "outputId": "7a477df8-904b-43cf-8eb6-0b474635a75a"
      },
      "execution_count": null,
      "outputs": [
        {
          "output_type": "stream",
          "name": "stdout",
          "text": [
            "1\n",
            "2\n",
            "3\n",
            "4\n",
            "6\n",
            "7\n",
            "8\n",
            "9\n",
            "10\n"
          ]
        }
      ]
    },
    {
      "cell_type": "code",
      "source": [
        "def my_function(name):\n",
        "  print(name + \" Naim\")\n",
        "\n",
        "my_function(\"E-mail\")\n",
        "my_function(\"Phone\")\n",
        "my_function(\"Location\")"
      ],
      "metadata": {
        "colab": {
          "base_uri": "https://localhost:8080/"
        },
        "id": "4sXARdrV4-jg",
        "outputId": "2f50ed62-80cb-492d-82db-057cbf00f1fc"
      },
      "execution_count": null,
      "outputs": [
        {
          "output_type": "stream",
          "name": "stdout",
          "text": [
            "E-mail Naim\n",
            "Phone Naim\n",
            "Location Naim\n"
          ]
        }
      ]
    },
    {
      "cell_type": "code",
      "source": [
        "class man:\n",
        "  def __init__(self,name, age, dob):\n",
        "    self.name=name\n",
        "    self.age=age\n",
        "    self.dob=dob\n",
        "m1=man(\"Naim\", 24, 2000)\n",
        "\n",
        "print(m1.name)\n",
        "print(m1.age)\n",
        "print(m1.dob)\n"
      ],
      "metadata": {
        "colab": {
          "base_uri": "https://localhost:8080/"
        },
        "id": "wv3n7uZifYAq",
        "outputId": "a8a477c6-e77c-4052-ecaf-4164a1904987"
      },
      "execution_count": null,
      "outputs": [
        {
          "output_type": "stream",
          "name": "stdout",
          "text": [
            "Naim\n",
            "24\n",
            "2000\n"
          ]
        }
      ]
    },
    {
      "cell_type": "code",
      "source": [
        "class man:\n",
        "  def __init__(self,fname,lname):\n",
        "    self.fname=fname\n",
        "    self.lname=lname\n",
        "\n",
        "  def printname(self):\n",
        "    print(self.fname,self.lname)\n",
        "\n",
        "x=man(\"MD\",\"Naim\")\n",
        "x.printname()"
      ],
      "metadata": {
        "colab": {
          "base_uri": "https://localhost:8080/"
        },
        "id": "HC_PtfHAnD_l",
        "outputId": "2116b648-693c-4035-dbb6-0fca8c589bf4"
      },
      "execution_count": null,
      "outputs": [
        {
          "output_type": "stream",
          "name": "stdout",
          "text": [
            "MD Naim\n"
          ]
        }
      ]
    },
    {
      "cell_type": "code",
      "source": [
        "class person:\n",
        "  def __init__(self,fname,lname):\n",
        "    self.fname=fname\n",
        "    self.lname=lname\n",
        "\n",
        "  def printname(self):\n",
        "    print(self.fname,self.lname)\n",
        "\n",
        "class student(person):\n",
        "  def __init__(self,fname,lname,year):\n",
        "    super().__init__(fname,lname)\n",
        "    self.graduationyear=year\n",
        "\n",
        "  def welcome(self):\n",
        "    print(\"Welcome \", self.fname, self.lname, \"to the end of \", self.graduationyear)\n",
        "\n",
        "x=student(\"MD\", \"Naim\", 2026)\n",
        "x.welcome()"
      ],
      "metadata": {
        "colab": {
          "base_uri": "https://localhost:8080/"
        },
        "id": "dvJMpGiYpT6E",
        "outputId": "ff29da9e-99c7-4bd4-987f-bcc8bfcf7cf7"
      },
      "execution_count": null,
      "outputs": [
        {
          "output_type": "stream",
          "name": "stdout",
          "text": [
            "Welcome  MD Naim to the end of  2026\n"
          ]
        }
      ]
    },
    {
      "cell_type": "code",
      "source": [
        "class num:\n",
        "  def __iter__(self):\n",
        "    self.a=1\n",
        "    return self\n",
        "\n",
        "  def __next__(self):\n",
        "    if self.a <=25:\n",
        "     x=self.a\n",
        "     self.a +=1\n",
        "     return x\n",
        "    else:\n",
        "      raise StopIteration\n",
        "\n",
        "myclass=num()\n",
        "myiter=iter(myclass)\n",
        "\n",
        "for x in myiter:\n",
        "  print(x)"
      ],
      "metadata": {
        "colab": {
          "base_uri": "https://localhost:8080/"
        },
        "id": "VFPb2FSHt3AX",
        "outputId": "4d04229b-612d-4288-ffe2-86ca757a9866"
      },
      "execution_count": null,
      "outputs": [
        {
          "output_type": "stream",
          "name": "stdout",
          "text": [
            "1\n",
            "2\n",
            "3\n",
            "4\n",
            "5\n",
            "6\n",
            "7\n",
            "8\n",
            "9\n",
            "10\n",
            "11\n",
            "12\n",
            "13\n",
            "14\n",
            "15\n",
            "16\n",
            "17\n",
            "18\n",
            "19\n",
            "20\n",
            "21\n",
            "22\n",
            "23\n",
            "24\n",
            "25\n"
          ]
        }
      ]
    },
    {
      "cell_type": "code",
      "source": [
        "import datetime\n",
        "x=datetime.datetime.now()\n",
        "print(x)\n",
        "print(x.year)\n",
        "print(x.strftime(\"%A\"))"
      ],
      "metadata": {
        "colab": {
          "base_uri": "https://localhost:8080/"
        },
        "id": "qej4BsnEqEbC",
        "outputId": "b1faab2f-6749-4413-a284-311d342ac599"
      },
      "execution_count": null,
      "outputs": [
        {
          "output_type": "stream",
          "name": "stdout",
          "text": [
            "2024-10-31 11:29:49.375287\n",
            "2024\n",
            "Thursday\n"
          ]
        }
      ]
    },
    {
      "cell_type": "code",
      "source": [
        "import datetime\n",
        "x=datetime.datetime(2000,2,10)\n",
        "print(x)"
      ],
      "metadata": {
        "colab": {
          "base_uri": "https://localhost:8080/"
        },
        "id": "AHFGvUXtrK7h",
        "outputId": "701530ae-e3d0-40bb-c219-6491051a07d8"
      },
      "execution_count": null,
      "outputs": [
        {
          "output_type": "stream",
          "name": "stdout",
          "text": [
            "2000-02-10 00:00:00\n"
          ]
        }
      ]
    },
    {
      "cell_type": "code",
      "source": [
        "import datetime\n",
        "x=datetime.datetime(2000,2,10)\n",
        "print(x.strftime(\"%B\"))\n",
        "print(x.strftime(\"%A\"))\n",
        "print(x.strftime(\"%Y\"))\n",
        "print(x.strftime(\"%d\"))\n",
        "print(x.strftime(\"%P\"))"
      ],
      "metadata": {
        "colab": {
          "base_uri": "https://localhost:8080/"
        },
        "id": "PWU-Mr-cuNsW",
        "outputId": "ea9e502a-b6da-4b73-9b04-9b8d81d63f34"
      },
      "execution_count": null,
      "outputs": [
        {
          "output_type": "stream",
          "name": "stdout",
          "text": [
            "February\n",
            "Thursday\n",
            "2000\n",
            "10\n",
            "am\n"
          ]
        }
      ]
    },
    {
      "cell_type": "code",
      "source": [
        "x=max(12,17,25,37)\n",
        "y=min(28,29,16,15)\n",
        "print(x)\n",
        "print(y)"
      ],
      "metadata": {
        "colab": {
          "base_uri": "https://localhost:8080/"
        },
        "id": "_e_AMqO9v4XE",
        "outputId": "318cbd13-7de5-4072-dfa1-3f3243f5627f"
      },
      "execution_count": null,
      "outputs": [
        {
          "output_type": "stream",
          "name": "stdout",
          "text": [
            "37\n",
            "15\n"
          ]
        }
      ]
    },
    {
      "cell_type": "code",
      "source": [
        "x=abs(-8.1566) #Positive function\n",
        "print(x)\n",
        "\n",
        "y=pow(5,2) #Power function\n",
        "print(y)"
      ],
      "metadata": {
        "colab": {
          "base_uri": "https://localhost:8080/"
        },
        "id": "Gd0akYqbw5ao",
        "outputId": "bea1d432-c344-43b6-ef25-deef27fb5976"
      },
      "execution_count": null,
      "outputs": [
        {
          "output_type": "stream",
          "name": "stdout",
          "text": [
            "8.1566\n",
            "25\n"
          ]
        }
      ]
    },
    {
      "cell_type": "code",
      "source": [
        "import math #Create a square root for a number\n",
        "x=math.sqrt(81)\n",
        "print(x)"
      ],
      "metadata": {
        "colab": {
          "base_uri": "https://localhost:8080/"
        },
        "id": "-TdwShFKx8iW",
        "outputId": "4aec9014-6f2b-4c7f-98dc-50cfb137a997"
      },
      "execution_count": null,
      "outputs": [
        {
          "output_type": "stream",
          "name": "stdout",
          "text": [
            "9.0\n"
          ]
        }
      ]
    },
    {
      "cell_type": "code",
      "source": [
        "import math\n",
        "x=math.ceil(3.8) #Round number for upward\n",
        "y=math.floor(3.8) #Round number for downward\n",
        "print(x)\n",
        "print(y)"
      ],
      "metadata": {
        "colab": {
          "base_uri": "https://localhost:8080/"
        },
        "id": "8XPynJ3iy07f",
        "outputId": "ecf90d4f-444c-4ddd-b89d-10592fc03685"
      },
      "execution_count": null,
      "outputs": [
        {
          "output_type": "stream",
          "name": "stdout",
          "text": [
            "4\n",
            "3\n"
          ]
        }
      ]
    },
    {
      "cell_type": "code",
      "source": [
        "import math #Get a pi value\n",
        "x=math.pi\n",
        "print(x)"
      ],
      "metadata": {
        "colab": {
          "base_uri": "https://localhost:8080/"
        },
        "id": "AgIpl7TGzdm5",
        "outputId": "ab626204-98fe-46e4-b132-01dfe6cb673a"
      },
      "execution_count": null,
      "outputs": [
        {
          "output_type": "stream",
          "name": "stdout",
          "text": [
            "3.141592653589793\n"
          ]
        }
      ]
    },
    {
      "cell_type": "code",
      "source": [
        "import json\n",
        "x='{\"Name\":\"Naim\",\"Age\":24,\"City\":\"Dhaka\"}'\n",
        "y=json.loads(x)\n",
        "print(y[\"City\"])"
      ],
      "metadata": {
        "colab": {
          "base_uri": "https://localhost:8080/"
        },
        "id": "bXNTb7ok0KR5",
        "outputId": "a73021d0-5f9e-4715-97c8-7717dd70fd28"
      },
      "execution_count": null,
      "outputs": [
        {
          "output_type": "stream",
          "name": "stdout",
          "text": [
            "Dhaka\n"
          ]
        }
      ]
    },
    {
      "cell_type": "code",
      "source": [
        "username=input(\"Enter your first name: \")\n",
        "print(+username)"
      ],
      "metadata": {
        "id": "4Zt-HKd122YP"
      },
      "execution_count": null,
      "outputs": []
    },
    {
      "cell_type": "code",
      "source": [
        "f=open(\"demofile.txt\",\"r\")\n",
        "print(f.read())"
      ],
      "metadata": {
        "id": "8kX5f-pWcM6V"
      },
      "execution_count": null,
      "outputs": []
    },
    {
      "cell_type": "code",
      "source": [
        "x=2\n",
        "y=3.5\n",
        "print(type(x))\n",
        "print(type(y))\n",
        "print(x)\n",
        "print(x+2)\n",
        "print(x*3)\n",
        "print(x-3)\n",
        "print(x/2)\n",
        "print(x**3)\n",
        "x+=1\n",
        "print(x)\n",
        "x*=2\n",
        "print(x)\n",
        "x-=1\n",
        "print(x)\n",
        "x/=2\n",
        "print(x)\n",
        "print(y,y+2,y-2,y*3,y/1,y**2,type(y))"
      ],
      "metadata": {
        "colab": {
          "base_uri": "https://localhost:8080/"
        },
        "id": "WX0wo5RkfLnf",
        "outputId": "85e787a9-b3b1-4ddc-fe52-581a4b34ea7a"
      },
      "execution_count": null,
      "outputs": [
        {
          "output_type": "stream",
          "name": "stdout",
          "text": [
            "<class 'int'>\n",
            "<class 'float'>\n",
            "2\n",
            "4\n",
            "6\n",
            "-1\n",
            "1.0\n",
            "8\n",
            "3\n",
            "6\n",
            "5\n",
            "2.5\n",
            "3.5 5.5 1.5 10.5 3.5 12.25 <class 'float'>\n"
          ]
        }
      ]
    },
    {
      "cell_type": "code",
      "source": [
        "list=[1,2,3,4,5]\n",
        "tuple=('a','b','c','d','e')\n",
        "print(list)\n",
        "print(tuple)\n",
        "print(list[1],list[2])\n",
        "for i in tuple:\n",
        "    print(i)\n",
        "for j in list:\n",
        "    print(j)\n",
        "for k,l in enumerate(list):\n",
        "  print(f\"{k}:{l}\")\n",
        "for m,n in enumerate(tuple):\n",
        "  print(f\"{m}:{n}\")"
      ],
      "metadata": {
        "colab": {
          "base_uri": "https://localhost:8080/"
        },
        "id": "11lFFWB-8nhs",
        "outputId": "b73a04ab-eaa1-4db8-c5fa-bcffe20b19da"
      },
      "execution_count": null,
      "outputs": [
        {
          "output_type": "stream",
          "name": "stdout",
          "text": [
            "[1, 2, 3, 4, 5]\n",
            "('a', 'b', 'c', 'd', 'e')\n",
            "2 3\n",
            "a\n",
            "b\n",
            "c\n",
            "d\n",
            "e\n",
            "1\n",
            "2\n",
            "3\n",
            "4\n",
            "5\n",
            "0:1\n",
            "1:2\n",
            "2:3\n",
            "3:4\n",
            "4:5\n",
            "0:a\n",
            "1:b\n",
            "2:c\n",
            "3:d\n",
            "4:e\n"
          ]
        }
      ]
    },
    {
      "cell_type": "code",
      "source": [
        "a=['a','b','c']\n",
        "print(a)\n",
        "a.append('d')\n",
        "a.append('e')\n",
        "a.append('f')\n",
        "print(a)\n",
        "a.insert(1,'1b')\n",
        "a.insert(3,'3d')\n",
        "a.insert(5,'5f')\n",
        "print(a)\n",
        "a.remove('b')\n",
        "a.remove('c')\n",
        "print(a)\n",
        "del a[1]\n",
        "del a[3]\n",
        "print(a)"
      ],
      "metadata": {
        "colab": {
          "base_uri": "https://localhost:8080/"
        },
        "id": "VI5DITvU_tBP",
        "outputId": "4511e095-1c0b-4001-a61e-30528a1e2bc8"
      },
      "execution_count": null,
      "outputs": [
        {
          "output_type": "stream",
          "name": "stdout",
          "text": [
            "['a', 'b', 'c']\n",
            "['a', 'b', 'c', 'd', 'e', 'f']\n",
            "['a', '1b', 'b', '3d', 'c', '5f', 'd', 'e', 'f']\n",
            "['a', '1b', '3d', '5f', 'd', 'e', 'f']\n",
            "['a', '3d', '5f', 'e', 'f']\n"
          ]
        }
      ]
    },
    {
      "cell_type": "code",
      "source": [
        "lofl=[\n",
        "    [1,2,3,4,5],\n",
        "    ['a','b','c','d'],\n",
        "    ['one','two','three','four']\n",
        "]\n",
        "print(lofl)\n",
        "print(lofl[0][3])\n",
        "print(lofl[1][2])\n",
        "print(lofl[2][1])"
      ],
      "metadata": {
        "colab": {
          "base_uri": "https://localhost:8080/"
        },
        "id": "IE1RMwS_B9L6",
        "outputId": "dc921127-62ad-4376-9a80-0386ce915211"
      },
      "execution_count": null,
      "outputs": [
        {
          "output_type": "stream",
          "name": "stdout",
          "text": [
            "[[1, 2, 3, 4, 5], ['a', 'b', 'c', 'd'], ['one', 'two', 'three', 'four']]\n",
            "4\n",
            "c\n",
            "two\n"
          ]
        }
      ]
    },
    {
      "cell_type": "code",
      "source": [
        "uni={'Aiub','Nsu','Iub'}\n",
        "print(uni,type(uni))\n",
        "uni.add('Aust')\n",
        "print(uni)\n",
        "uni.remove('Aiub')\n",
        "print(uni)\n",
        "'Aiub' in uni"
      ],
      "metadata": {
        "colab": {
          "base_uri": "https://localhost:8080/"
        },
        "id": "wiP-kXlHDf_i",
        "outputId": "61a3ba6f-96f1-47b7-f59d-bca1361cb132"
      },
      "execution_count": null,
      "outputs": [
        {
          "output_type": "stream",
          "name": "stdout",
          "text": [
            "{'Nsu', 'Iub', 'Aiub'} <class 'set'>\n",
            "{'Nsu', 'Aust', 'Iub', 'Aiub'}\n",
            "{'Nsu', 'Aust', 'Iub'}\n"
          ]
        },
        {
          "output_type": "execute_result",
          "data": {
            "text/plain": [
              "False"
            ]
          },
          "metadata": {},
          "execution_count": 46
        }
      ]
    },
    {
      "cell_type": "code",
      "source": [
        "student={'a':23,'b':43,'c':76}\n",
        "print(student, type(student))\n",
        "print(student['a'])\n",
        "student.get('b')\n",
        "print(f\"key:{student.keys()}\")\n",
        "print(f\"value:{student.values()}\")\n",
        "for i in student:\n",
        "  obtain=student[i]\n",
        "  print(i)\n",
        "  print('This %s is obtain %d'%(i,obtain))"
      ],
      "metadata": {
        "colab": {
          "base_uri": "https://localhost:8080/"
        },
        "id": "nzzsGMQbGJ8D",
        "outputId": "2871f5c6-6ea5-4fdc-bf95-90c6021dbc97"
      },
      "execution_count": null,
      "outputs": [
        {
          "output_type": "stream",
          "name": "stdout",
          "text": [
            "{'a': 23, 'b': 43, 'c': 76} <class 'dict'>\n",
            "23\n",
            "key:dict_keys(['a', 'b', 'c'])\n",
            "value:dict_values([23, 43, 76])\n",
            "a\n",
            "This a is obtain 23\n",
            "b\n",
            "This b is obtain 43\n",
            "c\n",
            "This c is obtain 76\n"
          ]
        }
      ]
    },
    {
      "cell_type": "code",
      "source": [
        "a = [1,2,3,4,5]\n",
        "b = [5,4,3,2,1]\n",
        "print(a[0:3])\n",
        "print(a[:2])\n",
        "print(a[3:])\n",
        "print(a[:-1])\n",
        "print(a[2:-2])\n",
        "print(zip(a,b))\n",
        "for x,y in zip(a,b):\n",
        "    print(f'{x} - {y} = {x-y}')"
      ],
      "metadata": {
        "colab": {
          "base_uri": "https://localhost:8080/"
        },
        "id": "rTY_6AhaJOS-",
        "outputId": "ca85fd41-1649-4371-e1f0-8bb2d98af221"
      },
      "execution_count": null,
      "outputs": [
        {
          "output_type": "stream",
          "name": "stdout",
          "text": [
            "[1, 2, 3]\n",
            "[1, 2]\n",
            "[4, 5]\n",
            "[1, 2, 3, 4]\n",
            "[3]\n",
            "<zip object at 0x7fb5781fed80>\n",
            "1 - 5 = -4\n",
            "2 - 4 = -2\n",
            "3 - 3 = 0\n",
            "4 - 2 = 2\n",
            "5 - 1 = 4\n"
          ]
        }
      ]
    },
    {
      "cell_type": "code",
      "source": [
        "array1=[1,2,3,4,5,6,7]\n",
        "array2=[]\n",
        "array3=[]\n",
        "array1_copy=[i for i in array1]\n",
        "print(array1_copy)\n",
        "for i in array1:\n",
        "  array2.append(i**3)\n",
        "print(array2)\n",
        "for j in array1:\n",
        "  array3.append(j**2)\n",
        "  print(array3)"
      ],
      "metadata": {
        "colab": {
          "base_uri": "https://localhost:8080/"
        },
        "id": "-mWkfp5pLCV2",
        "outputId": "b9165feb-607e-4f63-ee6c-953b9f8472d5"
      },
      "execution_count": null,
      "outputs": [
        {
          "output_type": "stream",
          "name": "stdout",
          "text": [
            "[1, 2, 3, 4, 5, 6, 7]\n",
            "[1, 8, 27, 64, 125, 216, 343]\n",
            "[1]\n",
            "[1, 4]\n",
            "[1, 4, 9]\n",
            "[1, 4, 9, 16]\n",
            "[1, 4, 9, 16, 25]\n",
            "[1, 4, 9, 16, 25, 36]\n",
            "[1, 4, 9, 16, 25, 36, 49]\n"
          ]
        }
      ]
    },
    {
      "cell_type": "code",
      "source": [
        "import numpy as np\n",
        "\n",
        "a = np.array([1, 2, 3])\n",
        "print(type(a))\n",
        "print(a.shape)\n",
        "print(a[0], a[1], a[2])\n",
        "a[0] = 5\n",
        "print(a)\n",
        "\n",
        "b = np.array([[1,2,3],[4,5,6]])\n",
        "print(b.shape)\n",
        "print(b[0, 0], b[0, 1], b[1, 0])"
      ],
      "metadata": {
        "colab": {
          "base_uri": "https://localhost:8080/"
        },
        "id": "YEttlbYTP15G",
        "outputId": "23e94704-4db2-445c-8d77-35b560a35753"
      },
      "execution_count": null,
      "outputs": [
        {
          "output_type": "stream",
          "name": "stdout",
          "text": [
            "<class 'numpy.ndarray'>\n",
            "(3,)\n",
            "1 2 3\n",
            "[5 2 3]\n",
            "(2, 3)\n",
            "1 2 4\n"
          ]
        }
      ]
    },
    {
      "cell_type": "code",
      "source": [
        "a = np.zeros((2,2))\n",
        "print(a)\n",
        "\n",
        "\n",
        "b = np.ones((1,2))\n",
        "print(b)\n",
        "\n",
        "c = np.full((2,2), 7)\n",
        "print(c)\n",
        "\n",
        "\n",
        "d = np.eye(2)\n",
        "print(d)\n",
        "\n",
        "\n",
        "e = np.random.random((2,2))\n",
        "print(e)\n"
      ],
      "metadata": {
        "colab": {
          "base_uri": "https://localhost:8080/"
        },
        "id": "LYYLpRmORJCI",
        "outputId": "89583e5f-494b-401b-f31b-d5df92f792cb"
      },
      "execution_count": null,
      "outputs": [
        {
          "output_type": "stream",
          "name": "stdout",
          "text": [
            "[[0. 0.]\n",
            " [0. 0.]]\n",
            "[[1. 1.]]\n",
            "[[7 7]\n",
            " [7 7]]\n",
            "[[1. 0.]\n",
            " [0. 1.]]\n",
            "[[0.54749018 0.70984578]\n",
            " [0.94245926 0.88394837]]\n"
          ]
        }
      ]
    },
    {
      "cell_type": "code",
      "source": [
        "a = np.array([[1,2,3,4], [5,6,7,8], [9,10,11,12]])\n",
        "b = a[:2, 1:3]\n",
        "\n",
        "print(a)\n",
        "print(b)\n",
        "print(a[0, 1])\n",
        "b[0, 0] = 77\n",
        "print(a[0, 1])"
      ],
      "metadata": {
        "colab": {
          "base_uri": "https://localhost:8080/"
        },
        "id": "0Di4Vx6JR5EY",
        "outputId": "8c7b95d6-22c4-4152-dc3c-c996fd50e8b5"
      },
      "execution_count": null,
      "outputs": [
        {
          "output_type": "stream",
          "name": "stdout",
          "text": [
            "[[ 1  2  3  4]\n",
            " [ 5  6  7  8]\n",
            " [ 9 10 11 12]]\n",
            "[[2 3]\n",
            " [6 7]]\n",
            "2\n",
            "77\n"
          ]
        }
      ]
    },
    {
      "cell_type": "code",
      "source": [
        "a = np.array([[1,2,3,4], [5,6,7,8], [9,10,11,12]])\n",
        "row_r1 = a[1, :]\n",
        "row_r2 = a[1:2, :]\n",
        "print(row_r1, row_r1.shape)\n",
        "print(row_r2, row_r2.shape)\n",
        "\n",
        "\n",
        "col_r1 = a[:, 1]\n",
        "col_r2 = a[:, 1:2]\n",
        "print(col_r1, col_r1.shape)\n",
        "print(col_r2, col_r2.shape)"
      ],
      "metadata": {
        "colab": {
          "base_uri": "https://localhost:8080/"
        },
        "id": "YQ3qORiaTNza",
        "outputId": "18233c29-12e3-41ce-89b6-06888f4ec14b"
      },
      "execution_count": null,
      "outputs": [
        {
          "output_type": "stream",
          "name": "stdout",
          "text": [
            "[5 6 7 8] (4,)\n",
            "[[5 6 7 8]] (1, 4)\n",
            "[ 2  6 10] (3,)\n",
            "[[ 2]\n",
            " [ 6]\n",
            " [10]] (3, 1)\n"
          ]
        }
      ]
    },
    {
      "cell_type": "code",
      "source": [
        "a = np.array([[1,2], [3, 4], [5, 6]])\n",
        "\n",
        "print(a[[0, 1, 2], [0, 1, 0]])\n",
        "\n",
        "print(np.array([a[0, 0], a[1, 1], a[2, 0]]))\n",
        "\n",
        "print(a[[0, 0], [1, 1]])\n",
        "\n",
        "print(np.array([a[0, 1], a[0, 1]]))"
      ],
      "metadata": {
        "colab": {
          "base_uri": "https://localhost:8080/"
        },
        "id": "MMt01mO-TyQr",
        "outputId": "014ab019-9fe2-4474-8a9a-90a866a6f997"
      },
      "execution_count": null,
      "outputs": [
        {
          "output_type": "stream",
          "name": "stdout",
          "text": [
            "[1 4 5]\n",
            "[1 4 5]\n",
            "[2 2]\n",
            "[2 2]\n"
          ]
        }
      ]
    },
    {
      "cell_type": "code",
      "source": [
        "a = np.array([[1,2,3], [4,5,6], [7,8,9], [10, 11, 12]])\n",
        "print(a)\n",
        "\n",
        "b = np.array([0, 2, 0, 1])\n",
        "print(a[np.arange(4), b])\n",
        "\n",
        "a[np.arange(4), b] += 10\n",
        "print(a)"
      ],
      "metadata": {
        "colab": {
          "base_uri": "https://localhost:8080/"
        },
        "id": "nozAcyk0U26m",
        "outputId": "6295f912-e394-4504-f293-55cfac925bb3"
      },
      "execution_count": null,
      "outputs": [
        {
          "output_type": "stream",
          "name": "stdout",
          "text": [
            "[[ 1  2  3]\n",
            " [ 4  5  6]\n",
            " [ 7  8  9]\n",
            " [10 11 12]]\n",
            "[ 1  6  7 11]\n",
            "[[11  2  3]\n",
            " [ 4  5 16]\n",
            " [17  8  9]\n",
            " [10 21 12]]\n"
          ]
        }
      ]
    },
    {
      "cell_type": "code",
      "source": [
        "a = np.array([[1,2], [3, 4], [5, 6]])\n",
        "bool_idx = (a > 2)\n",
        "print(bool_idx)\n",
        "print(a[bool_idx])\n",
        "print(a[a > 2])"
      ],
      "metadata": {
        "colab": {
          "base_uri": "https://localhost:8080/"
        },
        "id": "iFkuo00uVnoz",
        "outputId": "4e2e6034-728e-4b0b-950a-583d5f5676ba"
      },
      "execution_count": null,
      "outputs": [
        {
          "output_type": "stream",
          "name": "stdout",
          "text": [
            "[[False False]\n",
            " [ True  True]\n",
            " [ True  True]]\n",
            "[3 4 5 6]\n",
            "[3 4 5 6]\n"
          ]
        }
      ]
    },
    {
      "cell_type": "code",
      "source": [
        "x = np.array([[1,2],[3,4]], dtype=np.float64)\n",
        "y = np.array([[5,6],[7,8]], dtype=np.float64)\n",
        "\n",
        "print(x + y)\n",
        "print(np.add(x, y))\n",
        "\n",
        "print(x - y)\n",
        "print(np.subtract(x, y))\n",
        "\n",
        "print(x * y)\n",
        "print(np.multiply(x, y))\n",
        "\n",
        "print(x / y)\n",
        "print(np.divide(x, y))\n",
        "\n",
        "print(np.sqrt(x))"
      ],
      "metadata": {
        "colab": {
          "base_uri": "https://localhost:8080/"
        },
        "id": "0CZYDNNvWuHm",
        "outputId": "0ff28137-5d90-42b6-9090-b1c3c126c221"
      },
      "execution_count": null,
      "outputs": [
        {
          "output_type": "stream",
          "name": "stdout",
          "text": [
            "[[ 6.  8.]\n",
            " [10. 12.]]\n",
            "[[ 6.  8.]\n",
            " [10. 12.]]\n",
            "[[-4. -4.]\n",
            " [-4. -4.]]\n",
            "[[-4. -4.]\n",
            " [-4. -4.]]\n",
            "[[ 5. 12.]\n",
            " [21. 32.]]\n",
            "[[ 5. 12.]\n",
            " [21. 32.]]\n",
            "[[0.2        0.33333333]\n",
            " [0.42857143 0.5       ]]\n",
            "[[0.2        0.33333333]\n",
            " [0.42857143 0.5       ]]\n",
            "[[1.         1.41421356]\n",
            " [1.73205081 2.        ]]\n"
          ]
        }
      ]
    },
    {
      "cell_type": "code",
      "source": [
        "x = np.array([[1,2],[3,4]])\n",
        "y = np.array([[5,6],[7,8]])\n",
        "v = np.array([9,10])\n",
        "w = np.array([11, 12])\n",
        "\n",
        "print(v.dot(w))\n",
        "print(np.dot(v, w))\n",
        "\n",
        "print(x.dot(v))\n",
        "print(np.dot(x, v))\n",
        "\n",
        "print(x.dot(y))\n",
        "print(np.dot(x, y))"
      ],
      "metadata": {
        "colab": {
          "base_uri": "https://localhost:8080/"
        },
        "id": "6DFLdwZjYQhx",
        "outputId": "c23ab6ea-43ca-432e-a643-97cb161f4c06"
      },
      "execution_count": null,
      "outputs": [
        {
          "output_type": "stream",
          "name": "stdout",
          "text": [
            "219\n",
            "219\n",
            "[29 67]\n",
            "[29 67]\n",
            "[[19 22]\n",
            " [43 50]]\n",
            "[[19 22]\n",
            " [43 50]]\n"
          ]
        }
      ]
    },
    {
      "cell_type": "code",
      "source": [
        "x = np.array([[1,2],[3,4]])\n",
        "\n",
        "print(np.sum(x))\n",
        "print(np.sum(x, axis=0))\n",
        "print(np.sum(x, axis=1))"
      ],
      "metadata": {
        "colab": {
          "base_uri": "https://localhost:8080/"
        },
        "id": "5FQxhuRkq355",
        "outputId": "34ee1001-7f05-49ab-efcf-2948294c0d0f"
      },
      "execution_count": null,
      "outputs": [
        {
          "output_type": "stream",
          "name": "stdout",
          "text": [
            "10\n",
            "[4 6]\n",
            "[3 7]\n"
          ]
        }
      ]
    },
    {
      "cell_type": "code",
      "source": [
        "x = np.array([[1,2], [3,4]])\n",
        "print(x)\n",
        "\n",
        "print(x.T)\n",
        "\n",
        "v = np.array([1,2,3])\n",
        "print(v)\n",
        "print(v.T)"
      ],
      "metadata": {
        "colab": {
          "base_uri": "https://localhost:8080/"
        },
        "id": "WOz9Ji11rSz0",
        "outputId": "b8847e57-51c3-4365-fa4f-8fc824653a42"
      },
      "execution_count": null,
      "outputs": [
        {
          "output_type": "stream",
          "name": "stdout",
          "text": [
            "[[1 2]\n",
            " [3 4]]\n",
            "[[1 3]\n",
            " [2 4]]\n",
            "[1 2 3]\n",
            "[1 2 3]\n"
          ]
        }
      ]
    },
    {
      "cell_type": "code",
      "source": [
        "x = np.array([[1,2,3], [4,5,6], [7,8,9], [10, 11, 12]])\n",
        "v = np.array([1, 0, 1])\n",
        "y = np.empty_like(x)\n",
        "for i in range(4):\n",
        "    y[i, :] = x[i, :] + v\n",
        "\n",
        "print(y)"
      ],
      "metadata": {
        "colab": {
          "base_uri": "https://localhost:8080/"
        },
        "id": "-O3-1yzwsC6K",
        "outputId": "02e21870-8000-4ce7-9fb5-f4d6fc896a84"
      },
      "execution_count": null,
      "outputs": [
        {
          "output_type": "stream",
          "name": "stdout",
          "text": [
            "[[ 2  2  4]\n",
            " [ 5  5  7]\n",
            " [ 8  8 10]\n",
            " [11 11 13]]\n"
          ]
        }
      ]
    },
    {
      "cell_type": "code",
      "source": [
        "x = np.array([[1,2,3], [4,5,6], [7,8,9], [10, 11, 12]])\n",
        "v = np.array([1, 0, 1])\n",
        "y = x + v\n",
        "print(y)"
      ],
      "metadata": {
        "colab": {
          "base_uri": "https://localhost:8080/"
        },
        "id": "1LvjBrucspb-",
        "outputId": "6e0e606e-8658-4ae0-9c66-9af750f50674"
      },
      "execution_count": null,
      "outputs": [
        {
          "output_type": "stream",
          "name": "stdout",
          "text": [
            "[[ 2  2  4]\n",
            " [ 5  5  7]\n",
            " [ 8  8 10]\n",
            " [11 11 13]]\n"
          ]
        }
      ]
    },
    {
      "cell_type": "code",
      "source": [
        "v = np.array([1,2,3])\n",
        "w = np.array([4,5])\n",
        "\n",
        "print(np.reshape(v, (3, 1)) * w)\n",
        "\n",
        "x = np.array([[1,2,3], [4,5,6]])\n",
        "\n",
        "print(x + v)\n",
        "print((x.T + w).T)\n",
        "print(x + np.reshape(w, (2, 1)))\n",
        "print(x * 2)"
      ],
      "metadata": {
        "colab": {
          "base_uri": "https://localhost:8080/"
        },
        "id": "hJkALN3ds5c7",
        "outputId": "caa6ebd8-2734-44ae-f257-04ec1d7677a8"
      },
      "execution_count": null,
      "outputs": [
        {
          "output_type": "stream",
          "name": "stdout",
          "text": [
            "[[ 4  5]\n",
            " [ 8 10]\n",
            " [12 15]]\n",
            "[[2 4 6]\n",
            " [5 7 9]]\n",
            "[[ 5  6  7]\n",
            " [ 9 10 11]]\n",
            "[[ 5  6  7]\n",
            " [ 9 10 11]]\n",
            "[[ 2  4  6]\n",
            " [ 8 10 12]]\n"
          ]
        }
      ]
    },
    {
      "cell_type": "code",
      "source": [
        "def sign(a):\n",
        "    if a > 0:\n",
        "        return 'positive'\n",
        "    elif a < 0:\n",
        "        return 'negative'\n",
        "    else:\n",
        "        return 'zero'\n",
        "for i in range(5, -6, -1):\n",
        "    print(i, sign(i))"
      ],
      "metadata": {
        "colab": {
          "base_uri": "https://localhost:8080/"
        },
        "id": "0SSrUnQRvu4E",
        "outputId": "f95efdf6-31ea-4407-def5-7e04af3ccb6a"
      },
      "execution_count": null,
      "outputs": [
        {
          "output_type": "stream",
          "name": "stdout",
          "text": [
            "5 positive\n",
            "4 positive\n",
            "3 positive\n",
            "2 positive\n",
            "1 positive\n",
            "0 zero\n",
            "-1 negative\n",
            "-2 negative\n",
            "-3 negative\n",
            "-4 negative\n",
            "-5 negative\n"
          ]
        }
      ]
    },
    {
      "cell_type": "code",
      "source": [
        "import matplotlib.pyplot as plt\n",
        "%matplotlib inline\n",
        "x=[1,3,5,7,9,12]\n",
        "y=[23,25,26,27,28,29]\n",
        "print(x)\n",
        "print(y)\n",
        "plt.xlabel('Day')\n",
        "plt.ylabel('Temperature')\n",
        "plt.title('Weather')\n",
        "plt.plot(x,y)\n",
        "plt.plot(x,y, color='purple',linewidth=5,linestyle='dashed',marker='+',markersize=10)\n",
        "plt.plot(x,y,'r+--')"
      ],
      "metadata": {
        "colab": {
          "base_uri": "https://localhost:8080/",
          "height": 524
        },
        "id": "Org4kLsqwg_Q",
        "outputId": "eeab3389-8045-40b1-c915-a877574cdd8f"
      },
      "execution_count": null,
      "outputs": [
        {
          "output_type": "stream",
          "name": "stdout",
          "text": [
            "[1, 3, 5, 7, 9, 12]\n",
            "[23, 25, 26, 27, 28, 29]\n"
          ]
        },
        {
          "output_type": "execute_result",
          "data": {
            "text/plain": [
              "[<matplotlib.lines.Line2D at 0x7fb5759a8b50>]"
            ]
          },
          "metadata": {},
          "execution_count": 116
        },
        {
          "output_type": "display_data",
          "data": {
            "text/plain": [
              "<Figure size 640x480 with 1 Axes>"
            ],
            "image/png": "[encoded data removed]"
          },
          "metadata": {}
        }
      ]
    },
    {
      "cell_type": "code",
      "source": [
        "import numpy as np\n",
        "x = np.arange(-20, 20, 0.5)\n",
        "y1 = np.sin(x)\n",
        "y2 = np.cos(x)\n",
        "plt.figure()\n",
        "plt.plot(x,y1)\n",
        "plt.plot(x,y2)\n",
        "plt.legend(['Sine','Cosine'])\n",
        "plt.plot(x,y1,x,y2)\n",
        "plt.show()\n"
      ],
      "metadata": {
        "colab": {
          "base_uri": "https://localhost:8080/",
          "height": 430
        },
        "id": "VpTLdiUl0vhO",
        "outputId": "0106495d-788d-477a-bc80-d3419f639e76"
      },
      "execution_count": null,
      "outputs": [
        {
          "output_type": "display_data",
          "data": {
            "text/plain": [
              "<Figure size 640x480 with 1 Axes>"
            ],
            "image/png": "[encoded data removed]"
          },
          "metadata": {}
        }
      ]
    },
    {
      "cell_type": "code",
      "source": [
        "plt.figure(figsize=(10,3))\n",
        "plt.subplot(1,2,1)\n",
        "plt.plot(x,y1)\n",
        "plt.title('Sine')\n",
        "plt.subplot(1,2,2)\n",
        "plt.plot(x,y2)\n",
        "plt.title('Cosine')\n",
        "plt.show()"
      ],
      "metadata": {
        "colab": {
          "base_uri": "https://localhost:8080/",
          "height": 314
        },
        "id": "Gmba1e0A1n5N",
        "outputId": "a908847a-57b2-4b23-d6b8-e34aa365ffbb"
      },
      "execution_count": null,
      "outputs": [
        {
          "output_type": "display_data",
          "data": {
            "text/plain": [
              "<Figure size 1000x300 with 2 Axes>"
            ],
            "image/png": "[encoded data removed]"
          },
          "metadata": {}
        }
      ]
    },
    {
      "cell_type": "code",
      "source": [
        "from IPython import display\n",
        "sin =[]\n",
        "X = []\n",
        "plt.figure()\n",
        "for i in range(-100,100,2):\n",
        "    X.append(i)\n",
        "    sin.append(np.sin(i))\n",
        "    display.clear_output(wait=True)\n",
        "    plt.plot(X,sin)\n",
        "    plt.show()"
      ],
      "metadata": {
        "colab": {
          "base_uri": "https://localhost:8080/",
          "height": 430
        },
        "id": "OHAUFbZu15-t",
        "outputId": "32f7c4ce-c235-41de-b4de-887ec0f3f930"
      },
      "execution_count": null,
      "outputs": [
        {
          "output_type": "display_data",
          "data": {
            "text/plain": [
              "<Figure size 640x480 with 1 Axes>"
            ],
            "image/png": "[encoded data removed]"
          },
          "metadata": {}
        }
      ]
    },
    {
      "cell_type": "code",
      "source": [
        "fig = plt.figure(figsize=(10,5))\n",
        "plt.subplot(1,2,1)\n",
        "plt.plot(x,y1)\n",
        "plt.title('Sine')\n",
        "plt.subplot(1,2,2)\n",
        "plt.plot(x,y2)\n",
        "plt.title('Cosine')\n",
        "plt.savefig('test.pdf', transparent=True)\n",
        "plt.show()"
      ],
      "metadata": {
        "colab": {
          "base_uri": "https://localhost:8080/",
          "height": 468
        },
        "id": "6GhWJlut2h8Y",
        "outputId": "8ea90cd3-9484-4af7-8c81-df9c295e7d54"
      },
      "execution_count": null,
      "outputs": [
        {
          "output_type": "display_data",
          "data": {
            "text/plain": [
              "<Figure size 1000x500 with 2 Axes>"
            ],
            "image/png": "[encoded data removed]"
          },
          "metadata": {}
        }
      ]
    }
  ]
}